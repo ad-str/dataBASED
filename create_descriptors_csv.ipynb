{
 "cells": [
  {
   "cell_type": "code",
   "execution_count": 12,
   "metadata": {},
   "outputs": [],
   "source": [
    "import pandas as pd\n",
    "import os\n",
    "import json"
   ]
  },
  {
   "cell_type": "code",
   "execution_count": 24,
   "metadata": {},
   "outputs": [],
   "source": [
    "folder_path = '/Users/adstr/Desktop/artic-api-data/json/artworks'\n",
    "\n",
    "# initialize list of rows\n",
    "rows = []\n",
    "\n",
    "# iterate through json files, populating the list as we go\n",
    "for filename in os.listdir(folder_path):\n",
    "    if filename.endswith('.json'):\n",
    "        with open(os.path.join(folder_path, filename), 'r') as file:\n",
    "            data = json.load(file)\n",
    "\n",
    "            # create a new row for each classification and artwork type\n",
    "            rows.append((data['id'], 'classification', data['classification_title']))\n",
    "            rows.append((data['id'], 'artwork_type', data['artwork_type_title']))\n",
    "\n",
    "            # create a new row for each descriptor in the json\n",
    "            for field in ['material', 'style', 'technique', 'category']:\n",
    "                for descriptor in data[field + '_titles']:\n",
    "                    rows.append((data['id'], field, descriptor))\n",
    "            "
   ]
  },
  {
   "cell_type": "code",
   "execution_count": 26,
   "metadata": {},
   "outputs": [
    {
     "data": {
      "text/html": [
       "<div>\n",
       "<style scoped>\n",
       "    .dataframe tbody tr th:only-of-type {\n",
       "        vertical-align: middle;\n",
       "    }\n",
       "\n",
       "    .dataframe tbody tr th {\n",
       "        vertical-align: top;\n",
       "    }\n",
       "\n",
       "    .dataframe thead th {\n",
       "        text-align: right;\n",
       "    }\n",
       "</style>\n",
       "<table border=\"1\" class=\"dataframe\">\n",
       "  <thead>\n",
       "    <tr style=\"text-align: right;\">\n",
       "      <th></th>\n",
       "      <th>artwork_id</th>\n",
       "      <th>field</th>\n",
       "      <th>title</th>\n",
       "    </tr>\n",
       "  </thead>\n",
       "  <tbody>\n",
       "    <tr>\n",
       "      <th>0</th>\n",
       "      <td>116936</td>\n",
       "      <td>classification</td>\n",
       "      <td>edged weapon-sword</td>\n",
       "    </tr>\n",
       "    <tr>\n",
       "      <th>1</th>\n",
       "      <td>116936</td>\n",
       "      <td>artwork_type</td>\n",
       "      <td>None</td>\n",
       "    </tr>\n",
       "    <tr>\n",
       "      <th>2</th>\n",
       "      <td>116936</td>\n",
       "      <td>material</td>\n",
       "      <td>iron (metal)</td>\n",
       "    </tr>\n",
       "    <tr>\n",
       "      <th>3</th>\n",
       "      <td>116936</td>\n",
       "      <td>material</td>\n",
       "      <td>metal</td>\n",
       "    </tr>\n",
       "    <tr>\n",
       "      <th>4</th>\n",
       "      <td>116936</td>\n",
       "      <td>material</td>\n",
       "      <td>inorganic material</td>\n",
       "    </tr>\n",
       "  </tbody>\n",
       "</table>\n",
       "</div>"
      ],
      "text/plain": [
       "   artwork_id           field               title\n",
       "0      116936  classification  edged weapon-sword\n",
       "1      116936    artwork_type                None\n",
       "2      116936        material        iron (metal)\n",
       "3      116936        material               metal\n",
       "4      116936        material  inorganic material"
      ]
     },
     "execution_count": 26,
     "metadata": {},
     "output_type": "execute_result"
    }
   ],
   "source": [
    "# convert rows to a dataframe\n",
    "df = pd.DataFrame(rows, columns=['artwork_id', 'field', 'title'])\n",
    "df.head()"
   ]
  },
  {
   "cell_type": "code",
   "execution_count": 27,
   "metadata": {},
   "outputs": [],
   "source": [
    "df.to_csv('Entities/Descriptors.csv', index=False)"
   ]
  }
 ],
 "metadata": {
  "kernelspec": {
   "display_name": ".venv",
   "language": "python",
   "name": "python3"
  },
  "language_info": {
   "codemirror_mode": {
    "name": "ipython",
    "version": 3
   },
   "file_extension": ".py",
   "mimetype": "text/x-python",
   "name": "python",
   "nbconvert_exporter": "python",
   "pygments_lexer": "ipython3",
   "version": "3.11.4"
  }
 },
 "nbformat": 4,
 "nbformat_minor": 2
}
