{
 "cells": [
  {
   "cell_type": "code",
   "execution_count": 1,
   "metadata": {},
   "outputs": [],
   "source": [
    "import pandas as pd\n",
    "from geopy.geocoders import Nominatim\n",
    "from geopy.extra.rate_limiter import RateLimiter"
   ]
  },
  {
   "cell_type": "code",
   "execution_count": 11,
   "metadata": {},
   "outputs": [],
   "source": [
    "# Load the current Artwork data, and get the unique place of origin values\n",
    "data = pd.read_csv('../data/Entities/Artwork.csv')\n",
    "data = data.loc[:, ['place_of_origin']]\n",
    "data = data.drop_duplicates()\n",
    "data.reset_index(drop=True, inplace=True)"
   ]
  },
  {
   "cell_type": "code",
   "execution_count": 4,
   "metadata": {},
   "outputs": [],
   "source": [
    "# Initialize the geolocator\n",
    "geolocator = Nominatim(timeout=3, user_agent=\"dataBASED\")"
   ]
  },
  {
   "cell_type": "code",
   "execution_count": 24,
   "metadata": {},
   "outputs": [],
   "source": [
    "# Function to find the country for a given location\n",
    "def find_country(location):\n",
    "    try:\n",
    "        # Attempt to geolocate the location string\n",
    "        geo = geolocator.geocode(location, language=\"en\")\n",
    "        if geo:\n",
    "            return geo.address.split(', ')[-1]  # Return the country part of the address\n",
    "    except:\n",
    "        return \"\""
   ]
  },
  {
   "cell_type": "code",
   "execution_count": 26,
   "metadata": {},
   "outputs": [],
   "source": [
    "# Apply the function to each location in the DataFrame\n",
    "data['country'] = data['place_of_origin'].apply(find_country)"
   ]
  },
  {
   "cell_type": "code",
   "execution_count": 28,
   "metadata": {},
   "outputs": [],
   "source": [
    "\n",
    "# Save the updated DataFrame to a new CSV file\n",
    "data.to_csv('../data/output/updated_locations_with_countries.csv', index=False)"
   ]
  }
 ],
 "metadata": {
  "kernelspec": {
   "display_name": ".venv",
   "language": "python",
   "name": "python3"
  },
  "language_info": {
   "codemirror_mode": {
    "name": "ipython",
    "version": 3
   },
   "file_extension": ".py",
   "mimetype": "text/x-python",
   "name": "python",
   "nbconvert_exporter": "python",
   "pygments_lexer": "ipython3",
   "version": "3.11.8"
  }
 },
 "nbformat": 4,
 "nbformat_minor": 2
}
