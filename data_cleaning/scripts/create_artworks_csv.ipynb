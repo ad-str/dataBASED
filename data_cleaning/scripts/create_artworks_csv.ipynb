{
 "cells": [
  {
   "cell_type": "code",
   "execution_count": null,
   "metadata": {},
   "outputs": [],
   "source": [
    "import pandas as pd\n",
    "import os\n",
    "import json"
   ]
  },
  {
   "cell_type": "code",
   "execution_count": null,
   "metadata": {},
   "outputs": [],
   "source": [
    "folder_path = 'artic-api-data/json/artworks'\n",
    "\n",
    "# initialize list of rows\n",
    "rows = []\n",
    "\n",
    "# iterate through json files, populating the list as we go\n",
    "for filename in os.listdir(folder_path):\n",
    "    if filename.endswith('.json'):\n",
    "        with open(os.path.join(folder_path, filename), 'r') as file:\n",
    "            data = json.load(file)\n",
    "\n",
    "            # create a new row for each artwork\n",
    "            rows.append((data['id'], data['title'], data['has_not_been_viewed_much'], data['color'], data['image_id'],\n",
    "                        data['date_start'], data['date_end'], data['place_of_origin'], data['colorfulness']))"
   ]
  },
  {
   "cell_type": "code",
   "execution_count": null,
   "metadata": {},
   "outputs": [],
   "source": [
    "# convert rows to a dataframe\n",
    "df = pd.DataFrame(rows, columns=['id', 'title', 'has_not_been_viewed_much', 'color',\n",
    "                  'image_id', 'date_start', 'date_end', 'place_of_origin', 'colorfulness'])\n",
    "df.head()"
   ]
  },
  {
   "cell_type": "code",
   "execution_count": null,
   "metadata": {},
   "outputs": [],
   "source": [
    "# some cleaning\n",
    "# replace absurdly low start dates with NaN\n",
    "df['date_start'] = df['date_start'].where(df['date_start'] >= -100000, pd.NA)\n",
    "\n",
    "# replace end dates beyond 2023 with NaN\n",
    "df['date_end'] = df['date_end'].where(df['date_end'] <= 2024, pd.NA)\n",
    "\n",
    "# some weird start/end dates equal to -4713\n",
    "df['date_start'] = df['date_start'].where(df['date_start'] != -4713, pd.NA)\n",
    "df['date_end'] = df['date_end'].where(df['date_end'] != -4713, pd.NA)"
   ]
  },
  {
   "cell_type": "code",
   "execution_count": null,
   "metadata": {},
   "outputs": [],
   "source": [
    "df.to_csv('../data/Entities/Artwork.csv', index=False)"
   ]
  }
 ],
 "metadata": {
  "kernelspec": {
   "display_name": ".venv",
   "language": "python",
   "name": "python3"
  },
  "language_info": {
   "codemirror_mode": {
    "name": "ipython",
    "version": 3
   },
   "file_extension": ".py",
   "mimetype": "text/x-python",
   "name": "python",
   "nbconvert_exporter": "python",
   "pygments_lexer": "ipython3",
   "version": "3.11.8"
  }
 },
 "nbformat": 4,
 "nbformat_minor": 2
}
