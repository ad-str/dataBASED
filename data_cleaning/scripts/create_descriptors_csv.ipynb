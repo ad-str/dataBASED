{
 "cells": [
  {
   "cell_type": "code",
   "execution_count": 2,
   "metadata": {},
   "outputs": [],
   "source": [
    "import pandas as pd\n",
    "import os\n",
    "import json"
   ]
  },
  {
   "cell_type": "code",
   "execution_count": 3,
   "metadata": {},
   "outputs": [],
   "source": [
    "folder_path = '/artic-api-data/json/artworks'\n",
    "\n",
    "# initialize list of rows\n",
    "rows = []\n",
    "\n",
    "# iterate through json files, populating the list as we go\n",
    "for filename in os.listdir(folder_path):\n",
    "    if filename.endswith('.json'):\n",
    "        with open(os.path.join(folder_path, filename), 'r') as file:\n",
    "            data = json.load(file)\n",
    "\n",
    "            # ONLY CREATE ROW FOR NON-NULLS\n",
    "            # create a new row for each classification and artwork type\n",
    "            if data['classification_title']:\n",
    "                rows.append((data['id'], 'classification', data['classification_title']))\n",
    "            if data['artwork_type_title']:\n",
    "                rows.append((data['id'], 'artwork_type', data['artwork_type_title']))\n",
    "\n",
    "            # create a new row for each descriptor in the json\n",
    "            for field in ['material', 'style', 'technique', 'category']:\n",
    "                for descriptor in data[field + '_titles']:\n",
    "                    rows.append((data['id'], field, descriptor))\n",
    "            "
   ]
  },
  {
   "cell_type": "code",
   "execution_count": 4,
   "metadata": {},
   "outputs": [
    {
     "data": {
      "text/plain": [
       "724843"
      ]
     },
     "execution_count": 4,
     "metadata": {},
     "output_type": "execute_result"
    }
   ],
   "source": [
    "# convert rows to a dataframe\n",
    "df = pd.DataFrame(rows, columns=['artwork_id', 'field', 'title'])\n",
    "len(df)"
   ]
  },
  {
   "cell_type": "code",
   "execution_count": 6,
   "metadata": {},
   "outputs": [],
   "source": [
    "df.to_csv('Entities/Descriptors.csv', index=False)"
   ]
  }
 ],
 "metadata": {
  "kernelspec": {
   "display_name": ".venv",
   "language": "python",
   "name": "python3"
  },
  "language_info": {
   "codemirror_mode": {
    "name": "ipython",
    "version": 3
   },
   "file_extension": ".py",
   "mimetype": "text/x-python",
   "name": "python",
   "nbconvert_exporter": "python",
   "pygments_lexer": "ipython3",
   "version": "3.11.8"
  }
 },
 "nbformat": 4,
 "nbformat_minor": 2
}
