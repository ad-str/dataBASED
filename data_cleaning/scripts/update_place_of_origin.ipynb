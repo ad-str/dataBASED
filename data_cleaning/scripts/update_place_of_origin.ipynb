{
 "cells": [
  {
   "cell_type": "code",
   "execution_count": 1,
   "metadata": {},
   "outputs": [],
   "source": [
    "import pandas as pd"
   ]
  },
  {
   "cell_type": "code",
   "execution_count": 13,
   "metadata": {},
   "outputs": [],
   "source": [
    "original = pd.read_csv('../data/Entities/Artwork.csv')\n",
    "edited_origins = pd.read_csv('../data/output/updated_locations_with_countries_edit.csv')"
   ]
  },
  {
   "cell_type": "code",
   "execution_count": 14,
   "metadata": {},
   "outputs": [],
   "source": [
    "# trim whitespace\n",
    "edited_origins['country'] = edited_origins['country'].str.strip()\n",
    "\n",
    "# change \"Country not found\" to NaN\n",
    "edited_origins['country'] = edited_origins['country'].replace('Country Not Found', None)\n",
    "\n",
    "# smaller edits\n",
    "edited_origins['country'] = edited_origins['country'].replace('Czech Republic', 'Czechia')\n",
    "edited_origins['country'] = edited_origins['country'].replace('Gulf of Mexico', 'Mexico')\n",
    "edited_origins['country'] = edited_origins['country'].replace('North America', '')\n",
    "edited_origins['country'] = edited_origins['country'].replace('Europe', '')"
   ]
  },
  {
   "cell_type": "code",
   "execution_count": null,
   "metadata": {},
   "outputs": [],
   "source": [
    "new = pd.merge(original, edited_origins, on='place_of_origin', how='left')"
   ]
  },
  {
   "cell_type": "code",
   "execution_count": null,
   "metadata": {},
   "outputs": [],
   "source": [
    "new = new.drop(columns=['place_of_origin'])\n",
    "new = new.rename(columns={'country': 'place_of_origin'})"
   ]
  },
  {
   "cell_type": "code",
   "execution_count": null,
   "metadata": {},
   "outputs": [],
   "source": [
    "# replace Artwork csv\n",
    "new.to_csv('../data/Entities/Artwork.csv', index=False)"
   ]
  }
 ],
 "metadata": {
  "kernelspec": {
   "display_name": ".venv",
   "language": "python",
   "name": "python3"
  },
  "language_info": {
   "codemirror_mode": {
    "name": "ipython",
    "version": 3
   },
   "file_extension": ".py",
   "mimetype": "text/x-python",
   "name": "python",
   "nbconvert_exporter": "python",
   "pygments_lexer": "ipython3",
   "version": "3.11.8"
  }
 },
 "nbformat": 4,
 "nbformat_minor": 2
}
